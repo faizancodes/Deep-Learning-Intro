{
  "nbformat": 4,
  "nbformat_minor": 0,
  "metadata": {
    "colab": {
      "name": "Deep Learning Intro.ipynb",
      "provenance": [],
      "collapsed_sections": [],
      "toc_visible": true
    },
    "kernelspec": {
      "name": "python3",
      "display_name": "Python 3"
    }
  },
  "cells": [
    {
      "cell_type": "markdown",
      "metadata": {
        "id": "uc_pEhDYgCZG",
        "colab_type": "text"
      },
      "source": [
        "# **Preloaded data in Keras**\n",
        "\n",
        "> In Keras the MNIST dataset is preloaded in the form of four Numpy arrays and can be obtained with the following code:"
      ]
    },
    {
      "cell_type": "code",
      "metadata": {
        "id": "YVa7diebYdLn",
        "colab_type": "code",
        "outputId": "07d36249-bef0-4636-9809-0785c6f8cd26",
        "colab": {
          "base_uri": "https://localhost:8080/",
          "height": 35
        }
      },
      "source": [
        "import keras\n",
        "from keras.datasets import mnist\n",
        "import matplotlib.pyplot as plt\n",
        "\n",
        "(x_train, y_train), (x_test, y_test) = mnist.load_data()"
      ],
      "execution_count": 1,
      "outputs": [
        {
          "output_type": "stream",
          "text": [
            "Using TensorFlow backend.\n"
          ],
          "name": "stderr"
        }
      ]
    },
    {
      "cell_type": "markdown",
      "metadata": {
        "id": "sDzfGgA2gRgA",
        "colab_type": "text"
      },
      "source": [
        "> x_train and y_train contain the training set, while x_test and y_test contain \n",
        "the test data. The images are encoded as Numpy arrays and their corresponding labels ranging from 0 to 9. Following the strategy of the post to gradually introduce the concepts of the subject, as we have indicated, we will not see yet how to separate a part of the training data to use them as Validation data. We will only take into account the training and test data.\n",
        "If we want to check what values we have loaded, we can choose any of the images of the MNIST set, for example image 8, and using the following Python code:"
      ]
    },
    {
      "cell_type": "code",
      "metadata": {
        "id": "1l1jIXWtYx06",
        "colab_type": "code",
        "outputId": "bf3d2f64-0c09-439e-9bf2-f9cd84a7dce2",
        "colab": {
          "base_uri": "https://localhost:8080/",
          "height": 283
        }
      },
      "source": [
        "plt.imshow(x_train[2], cmap=plt.cm.binary)\n",
        "print(y_train[2])"
      ],
      "execution_count": 3,
      "outputs": [
        {
          "output_type": "stream",
          "text": [
            "4\n"
          ],
          "name": "stdout"
        },
        {
          "output_type": "display_data",
          "data": {
            "image/png": "[encoded data removed]",
            "text/plain": [
              "<Figure size 432x288 with 1 Axes>"
            ]
          },
          "metadata": {
            "tags": [],
            "needs_background": "light"
          }
        }
      ]
    },
    {
      "cell_type": "markdown",
      "metadata": {
        "id": "RAWbyBEBfmwi",
        "colab_type": "text"
      },
      "source": [
        "# **Data representation in Keras**\n",
        "\n",
        "> Keras, which as we have seen uses a multidimensional array of Numpy as a basic data structure, calls this data structure a tensor. In short, we could say that a tensor has three main attributes:\n",
        "\n",
        "  > - ***Number of axes (Rank):*** a tensor containing a single number will be called scalar (or a 0-dimensional tensor, or tensor 0D). An array of numbers we call vector, or tensor 1D. An array of vectors will be a matrix, or 2D tensor. If we pack this matrix in a new array, we get a 3D tensor, which we can interpret visually as a cube of numbers. By packaging a 3D tensioner in an array, we can create a 4D tensioner, and so on. In the Python Numpy library this is called the tensor’s ndim.\n",
        "\n",
        " > - ***Shape:*** it is a tuple of integers that describe how many dimensions the tensor has along each axis. In the Numpy library this attribute is called shape.\n",
        "\n",
        " > - ***Data type:*** this attribute indicates the type of data that contains the tensor, which can be for example uint8, float32, float64, etc. In the Numpy library this attribute is called dtype."
      ]
    },
    {
      "cell_type": "code",
      "metadata": {
        "id": "kfMThWH6Y_vC",
        "colab_type": "code",
        "outputId": "116db208-8211-434d-84ff-c47e54c22d1b",
        "colab": {
          "base_uri": "https://localhost:8080/",
          "height": 70
        }
      },
      "source": [
        "print(x_train.ndim)\n",
        "print(x_train.shape)\n",
        "print(x_train.dtype)"
      ],
      "execution_count": 4,
      "outputs": [
        {
          "output_type": "stream",
          "text": [
            "3\n",
            "(60000, 28, 28)\n",
            "uint8\n"
          ],
          "name": "stdout"
        }
      ]
    },
    {
      "cell_type": "markdown",
      "metadata": {
        "id": "JyduOhgTfZQt",
        "colab_type": "text"
      },
      "source": [
        "# **Data normalization in Keras**\n",
        "\n",
        "\n",
        "> These MNIST images of 28×28 pixels are represented as an array of numbers whose values range from [0, 255] of type uint8. But it is usual to scale the input values of neural networks to certain ranges. In the example of this post the input values should be scaled to values of type float32 within the interval [0, 1]. We can achieve this transformation with the following lines of code:"
      ]
    },
    {
      "cell_type": "code",
      "metadata": {
        "id": "BDdlwSlGfVUf",
        "colab_type": "code",
        "colab": {}
      },
      "source": [
        "x_train = x_train.astype('float32')\n",
        "x_test = x_test.astype('float32')\n",
        "\n",
        "x_train /= 255\n",
        "x_test /= 255"
      ],
      "execution_count": 0,
      "outputs": []
    },
    {
      "cell_type": "markdown",
      "metadata": {
        "id": "ANTdA4PAgpSW",
        "colab_type": "text"
      },
      "source": [
        "# **Converting 2D Tensor to 1D Vector**\n",
        "\n",
        "> On the other hand, to facilitate the entry of data into our neural network (we will see that in convolutionals it is not necessary) we must make a transformation of the tensor (image) from 2 dimensions (2D) to a vector of 1 dimension (1D). That is, the matrix of 28×28 numbers can be represented by a vector (array) of 784 numbers (concatenating row by row), which is the format that accepts as input a densely connected neural network like the one we will see in this post. In Python, converting every image of the MNIST dataset to avector with 784 components can be accomplished as follows:"
      ]
    },
    {
      "cell_type": "code",
      "metadata": {
        "id": "saIiIx-4g9wX",
        "colab_type": "code",
        "colab": {}
      },
      "source": [
        "x_train = x_train.reshape(60000, 784)\n",
        "x_test = x_test.reshape(10000, 784)"
      ],
      "execution_count": 0,
      "outputs": []
    },
    {
      "cell_type": "markdown",
      "metadata": {
        "id": "JnWUSkSbhmTF",
        "colab_type": "text"
      },
      "source": [
        "> After executing these Python instructions, we can verify that x_train.shape takes the form of (60000, 784) and x_test.shape takes the form of (10000, 784), where the first dimension indexes the image and the second indexes the pixel in each image (now the intensity of the pixel is a value between 0 and 1):"
      ]
    },
    {
      "cell_type": "code",
      "metadata": {
        "id": "ib_Ch4fChoJG",
        "colab_type": "code",
        "outputId": "1070bd1d-5c9e-4348-a9c4-06826aa8d93a",
        "colab": {
          "base_uri": "https://localhost:8080/",
          "height": 52
        }
      },
      "source": [
        "print(x_train.shape)\n",
        "print(x_test.shape)"
      ],
      "execution_count": 7,
      "outputs": [
        {
          "output_type": "stream",
          "text": [
            "(60000, 784)\n",
            "(10000, 784)\n"
          ],
          "name": "stdout"
        }
      ]
    },
    {
      "cell_type": "markdown",
      "metadata": {
        "id": "QYXgExRmiCUZ",
        "colab_type": "text"
      },
      "source": [
        "> In addition to that, we have the labels for each input data (remember that in our case they are numbers between 0 and 9 that indicate which digit represents the image, that is, to which class is associated). In this example, and as we have already advanced, we will represent this label with a vector of 10 positions, where the position corresponding to the digit that represents the image contains a 1 and the remaining positions of the vector contain the value 0.\n",
        "\n",
        "> In this example we will use what is known as one-hot encoding, which we have already mentioned, which consists of transforming the labels into a vector of as many zeros as the number of different labels, and containing the value of 1 in the index that corresponds to the value of the label. Keras offers many support functions, including to_categorical to perform precisely this transformation, which we can import from keras.utils:"
      ]
    },
    {
      "cell_type": "code",
      "metadata": {
        "id": "5Nhh8BKkiHiQ",
        "colab_type": "code",
        "colab": {}
      },
      "source": [
        "from keras.utils import to_categorical"
      ],
      "execution_count": 0,
      "outputs": []
    },
    {
      "cell_type": "markdown",
      "metadata": {
        "id": "Ul30ApFsigiB",
        "colab_type": "text"
      },
      "source": [
        "> To see the effect of the transformation we can see the values before and after applying to_categorical :"
      ]
    },
    {
      "cell_type": "code",
      "metadata": {
        "id": "4c1XSlJZihbz",
        "colab_type": "code",
        "outputId": "240997a1-c186-4c8b-eddf-972414a58a72",
        "colab": {
          "base_uri": "https://localhost:8080/",
          "height": 105
        }
      },
      "source": [
        "print('Y Train:', y_train[0])\n",
        "print('Y Test:', y_test[0])\n",
        "\n",
        "print('\\nY Train Shape:', y_train.shape)\n",
        "print('X Test Shape:', x_test.shape)"
      ],
      "execution_count": 9,
      "outputs": [
        {
          "output_type": "stream",
          "text": [
            "Y Train: 5\n",
            "Y Test: 7\n",
            "\n",
            "Y Train Shape: (60000,)\n",
            "X Test Shape: (10000, 784)\n"
          ],
          "name": "stdout"
        }
      ]
    },
    {
      "cell_type": "code",
      "metadata": {
        "id": "DYFRY9u6kSb1",
        "colab_type": "code",
        "colab": {}
      },
      "source": [
        "y_train = to_categorical(y_train, num_classes=10)\n",
        "y_test = to_categorical(y_test, num_classes=10)"
      ],
      "execution_count": 0,
      "outputs": []
    },
    {
      "cell_type": "code",
      "metadata": {
        "id": "q0X4lx3vkazj",
        "colab_type": "code",
        "outputId": "9c7484b4-4ca0-42e0-f147-cd35480a6555",
        "colab": {
          "base_uri": "https://localhost:8080/",
          "height": 87
        }
      },
      "source": [
        "print('Y Train:', y_train[0])\n",
        "print('Y Test:', y_test[0])\n",
        "\n",
        "print('Y Train Shape:', y_train.shape)\n",
        "print('Y Test Shape:', y_test.shape)"
      ],
      "execution_count": 11,
      "outputs": [
        {
          "output_type": "stream",
          "text": [
            "Y Train: [0. 0. 0. 0. 0. 1. 0. 0. 0. 0.]\n",
            "Y Test: [0. 0. 0. 0. 0. 0. 0. 1. 0. 0.]\n",
            "Y Train Shape: (60000, 10)\n",
            "Y Test Shape: (10000, 10)\n"
          ],
          "name": "stdout"
        }
      ]
    },
    {
      "cell_type": "markdown",
      "metadata": {
        "id": "MOeu9ifplzGk",
        "colab_type": "text"
      },
      "source": [
        "# **Densely connected networks in Keras**\n",
        "\n",
        "> In this section, we will present how to specify in Keras the model that we have defined in the previous sections.\n",
        "\n",
        "**Sequential class in Keras**\n",
        "\n",
        "> The main data structure in Keras is the Sequential class, which allows the creation of a basic neural network. Keras also offers an API that allows implementing more complex models in the form of a graph that can have multiple inputs, multiple outputs, with arbitrary connections in between, but it is beyond the scope of this post.\n",
        "The Sequential class of the Keras library is a wrapper for the sequential neural network model that Keras offers and can be created in the following way:"
      ]
    },
    {
      "cell_type": "code",
      "metadata": {
        "id": "ScZQlTyAl7Gt",
        "colab_type": "code",
        "colab": {}
      },
      "source": [
        "from keras.models import Sequential\n",
        "model = Sequential()"
      ],
      "execution_count": 0,
      "outputs": []
    },
    {
      "cell_type": "markdown",
      "metadata": {
        "id": "P19UJQO9l-mN",
        "colab_type": "text"
      },
      "source": [
        "> In this case, the model in Keras is considered as a sequence of layers and each of them gradually “distills” the input data to obtain the desired output. In Keras we can find all the required types of layers that can be easily added to the model through the add() method."
      ]
    },
    {
      "cell_type": "markdown",
      "metadata": {
        "id": "MyRebOcrmeMZ",
        "colab_type": "text"
      },
      "source": [
        "# **Defining the model**\n",
        "\n",
        "The construction in Keras of our model to recognize the images of digits could be the following:"
      ]
    },
    {
      "cell_type": "code",
      "metadata": {
        "id": "H19j5lZqmgTw",
        "colab_type": "code",
        "colab": {}
      },
      "source": [
        "from keras.layers.core import Dense, Activation\n",
        "\n",
        "model.add(Dense(10, activation='sigmoid', input_shape=(784,)))\n",
        "model.add(Dense(10, activation='softmax'))"
      ],
      "execution_count": 0,
      "outputs": []
    },
    {
      "cell_type": "markdown",
      "metadata": {
        "id": "rtwTuiDRm3n6",
        "colab_type": "text"
      },
      "source": [
        "> Here, the neural network has been defined as a sequence of two layers that are densely connected (or fully connected), meaning that all the neurons in each layer are connected to all the neurons in the next layer. Visually we could represent it in the following way:\n",
        "\n",
        "\n",
        "\n",
        "\n",
        "![alt text](https://miro.medium.com/max/1400/1*c0fsl5kacv8nEwdIpji4bw.png)\n",
        "\n",
        "\n",
        "> In the previous code we explicitly express in the input_shape argument of the first layer what the input data is like: a tensor that indicates that we have 784 features of the model (in fact the tensor that is being defined is (None, 784,) as we will see more ahead).\n",
        "\n",
        "> A very interesting characteristic of the Keras library is that it will automatically deduce the shape of the tensors between layers after the first one. This means that the programmer only has to establish this information for the first of them. Also, for each layer we indicate the number of nodes that it has and the activation function that we will apply in it (in this example, sigmoid).\n",
        "\n",
        "> The second layer in this example is a softmax layer of 10 neurons, which means that it will return a matrix of 10 probability values representing the 10 possible digits (in general, the output layer of a classification network will have as many neurons as classes, except in a binary classification, where only one neuron is needed). Each value will be the probability that the image of the current digit belongs to each one of them.\n",
        "\n",
        "A very useful method that Keras provides to check the architecture of our model is summary():"
      ]
    },
    {
      "cell_type": "code",
      "metadata": {
        "id": "0UxkKydZns2I",
        "colab_type": "code",
        "outputId": "f9a25c22-d197-435f-8ef0-081fa400f910",
        "colab": {
          "base_uri": "https://localhost:8080/",
          "height": 228
        }
      },
      "source": [
        "model.summary()"
      ],
      "execution_count": 14,
      "outputs": [
        {
          "output_type": "stream",
          "text": [
            "Model: \"sequential_1\"\n",
            "_________________________________________________________________\n",
            "Layer (type)                 Output Shape              Param #   \n",
            "=================================================================\n",
            "dense_1 (Dense)              (None, 10)                7850      \n",
            "_________________________________________________________________\n",
            "dense_2 (Dense)              (None, 10)                110       \n",
            "=================================================================\n",
            "Total params: 7,960\n",
            "Trainable params: 7,960\n",
            "Non-trainable params: 0\n",
            "_________________________________________________________________\n"
          ],
          "name": "stdout"
        }
      ]
    },
    {
      "cell_type": "markdown",
      "metadata": {
        "id": "_MXvfvOxo-AO",
        "colab_type": "text"
      },
      "source": [
        "> For our simple example, we see that it indicates that 7,960 parameters are required (column Param #), which correspond to 7,850 parameters to the first layer and 110 to the second.\n",
        "\n",
        "> In the first layer, for each neuron i (between 0 and 9) we require 784 parameters for the weights wij and therefore 10×784 parameters to store the weights of the 10 neurons. In addition to the 10 additional parameters for the 10 bj biases corresponding to each one of them. In the second layer, being a softmax function, it is required to connect all 10 neurons with the 10 neurons of the previous layer. Therefore 10x10 wi parameters are required and in addition 10 bj biases corresponding to each node.\n",
        "\n",
        "> The details of the arguments that we can indicate for the Dense layer can be found in the Keras manual. In our example, the most relevant ones appear. The first argument indicates the number of neurons in the layer; the following is the activation function that we will use in it. \n",
        "\n",
        "> The initialization of the weights is also often indicated as an argument of the Dense layers. The initial values must be adequate for the optimization problem to converge as quickly as possible. The various initialization options can also be found in the Keras manual.\n",
        "Basic steps to implement a neural network in Keras\n",
        "Next, we will present a brief description of the steps we must perform to implement a basic neural network and, in the following posts (soon), we will gradually introduce more details about each of these steps.\n"
      ]
    },
    {
      "cell_type": "markdown",
      "metadata": {
        "id": "rk-HZ9vwpKNW",
        "colab_type": "text"
      },
      "source": [
        "# **Configuration of the learning process**\n",
        "\n",
        "> From the Sequential model, we can define the layers in a simple way with the add() method, as we have advanced in the previous section. Once we have our model defined, we can configure how its learning process will be with the compile() method, with which we can specify some properties through method arguments.\n",
        "\n",
        "> The first of these arguments is the loss function that we will use to evaluate the degree of error between calculated outputs and the desired outputs of the training data. On the other hand, we specify an optimizer that, as we will see, is the way we have to specify the optimization algorithm that allows the neural network to calculate the weights of the parameters from the input data and the defined loss function. \n",
        "\n",
        "> And finally we must indicate the metric that we will use to monitor the learning process (and test) of our neural network. In this first example we will only consider the accuracy (fraction of images that are correctly classified). For example, in our case we can specify the following arguments in compile() method to test it on our computer:"
      ]
    },
    {
      "cell_type": "code",
      "metadata": {
        "id": "B1m2COkEpxMm",
        "colab_type": "code",
        "colab": {}
      },
      "source": [
        "model.compile(loss='categorical_crossentropy',\n",
        "              optimizer='sgd',\n",
        "              metrics = ['accuracy'])"
      ],
      "execution_count": 0,
      "outputs": []
    },
    {
      "cell_type": "markdown",
      "metadata": {
        "id": "gp17VEa8q_rM",
        "colab_type": "text"
      },
      "source": [
        "> In this example we specify that the loss function is categorical_crossentropy, the optimizer used is the stocastic gradient descent (sgd) and the metric is accuracy, with which we will evaluate the percentage of correct guesses."
      ]
    },
    {
      "cell_type": "markdown",
      "metadata": {
        "id": "__gtVAqqrBcr",
        "colab_type": "text"
      },
      "source": [
        "# **Model training**\n",
        "\n",
        "Once our model has been defined and the learning method configured, it is ready to be trained. For this we can train or “adjust” the model to the training data available by invoking the fit() method of the model:"
      ]
    },
    {
      "cell_type": "code",
      "metadata": {
        "id": "iSHkmRSVrF8W",
        "colab_type": "code",
        "outputId": "a94eee93-e104-4846-ea1b-ed5ae29918bc",
        "colab": {
          "base_uri": "https://localhost:8080/",
          "height": 739
        }
      },
      "source": [
        "model.fit(x_train, y_train, batch_size=200, epochs=20)"
      ],
      "execution_count": 21,
      "outputs": [
        {
          "output_type": "stream",
          "text": [
            "Epoch 1/20\n",
            "60000/60000 [==============================] - 1s 11us/step - loss: 1.1791 - accuracy: 0.7530\n",
            "Epoch 2/20\n",
            "60000/60000 [==============================] - 1s 11us/step - loss: 1.1225 - accuracy: 0.7640\n",
            "Epoch 3/20\n",
            "60000/60000 [==============================] - 1s 11us/step - loss: 1.0718 - accuracy: 0.7733\n",
            "Epoch 4/20\n",
            "60000/60000 [==============================] - 1s 11us/step - loss: 1.0262 - accuracy: 0.7817\n",
            "Epoch 5/20\n",
            "60000/60000 [==============================] - 1s 11us/step - loss: 0.9850 - accuracy: 0.7882\n",
            "Epoch 6/20\n",
            "60000/60000 [==============================] - 1s 11us/step - loss: 0.9477 - accuracy: 0.7949\n",
            "Epoch 7/20\n",
            "60000/60000 [==============================] - 1s 12us/step - loss: 0.9139 - accuracy: 0.8014\n",
            "Epoch 8/20\n",
            "60000/60000 [==============================] - 1s 12us/step - loss: 0.8830 - accuracy: 0.8066\n",
            "Epoch 9/20\n",
            "60000/60000 [==============================] - 1s 11us/step - loss: 0.8546 - accuracy: 0.8116\n",
            "Epoch 10/20\n",
            "60000/60000 [==============================] - 1s 11us/step - loss: 0.8286 - accuracy: 0.8165\n",
            "Epoch 11/20\n",
            "60000/60000 [==============================] - 1s 11us/step - loss: 0.8045 - accuracy: 0.8209\n",
            "Epoch 12/20\n",
            "60000/60000 [==============================] - 1s 11us/step - loss: 0.7823 - accuracy: 0.8252\n",
            "Epoch 13/20\n",
            "60000/60000 [==============================] - 1s 11us/step - loss: 0.7616 - accuracy: 0.8299\n",
            "Epoch 14/20\n",
            "60000/60000 [==============================] - 1s 11us/step - loss: 0.7423 - accuracy: 0.8335\n",
            "Epoch 15/20\n",
            "60000/60000 [==============================] - 1s 11us/step - loss: 0.7243 - accuracy: 0.8373\n",
            "Epoch 16/20\n",
            "60000/60000 [==============================] - 1s 11us/step - loss: 0.7074 - accuracy: 0.8407\n",
            "Epoch 17/20\n",
            "60000/60000 [==============================] - 1s 11us/step - loss: 0.6916 - accuracy: 0.8439\n",
            "Epoch 18/20\n",
            "60000/60000 [==============================] - 1s 11us/step - loss: 0.6767 - accuracy: 0.8472\n",
            "Epoch 19/20\n",
            "60000/60000 [==============================] - 1s 11us/step - loss: 0.6626 - accuracy: 0.8502\n",
            "Epoch 20/20\n",
            "60000/60000 [==============================] - 1s 11us/step - loss: 0.6493 - accuracy: 0.8528\n"
          ],
          "name": "stdout"
        },
        {
          "output_type": "execute_result",
          "data": {
            "text/plain": [
              "<keras.callbacks.callbacks.History at 0x7f873d2c90b8>"
            ]
          },
          "metadata": {
            "tags": []
          },
          "execution_count": 21
        }
      ]
    },
    {
      "cell_type": "markdown",
      "metadata": {
        "id": "OnsyfbQOrPAX",
        "colab_type": "text"
      },
      "source": [
        "> In the first two arguments we have indicated the data with which we will train the model in the form of Numpy arrays. The batch_size argument indicates the number of data that we will use for each update of the model parameters and with epochs we are indicating the number of times we will use all the data in the learning process. \n",
        "\n",
        "> This method finds the value of the parameters of the network through the iterative training algorithm that we mentioned. Roughly, in each iteration of this algorithm, training data from x_train, passes through the neural network (with the values that their parameters have at that moment), compares the obtained result with the expected one (indicated in y_train) and calculates the loss to guide the adjustment process of the model parameters, which intuitively consists of applying the optimizer specified above in the compile() method to calculate a new value of each one of the model parameters (weights and biases)in each iteration in such a way that the loss is reduced.\n",
        "\n",
        "> This is the method that, as we will see, may take longer and Keras allows us to see its progress using the verbose argument (by default, equal to 1), in addition to indicating an estimate of how long each epoch takes.\n",
        "\n",
        "> The fit() method allows many more arguments that have a very important impact on the learning outcome. Furthermore, this method returns a History object that we have omitted in this example. Its History.history attribute is the record of the loss values for the training data and other metrics in successive epochs, as well as other metrics for the validation data if they have been specified."
      ]
    },
    {
      "cell_type": "markdown",
      "metadata": {
        "id": "4vzVsMPAEEa2",
        "colab_type": "text"
      },
      "source": [
        "# **Model evaluation**\n",
        "\n",
        "> At this point, the neural network has been trained and its behavior with new test data can now be evaluated using the evaluation() method. This method returns two values:"
      ]
    },
    {
      "cell_type": "code",
      "metadata": {
        "id": "R1jEvxWfrYAH",
        "colab_type": "code",
        "colab": {
          "base_uri": "https://localhost:8080/",
          "height": 35
        },
        "outputId": "002df438-8c41-4f5b-a2c2-18222d02eef0"
      },
      "source": [
        "test_loss, test_acc = model.evaluate(x_test, y_test)"
      ],
      "execution_count": 22,
      "outputs": [
        {
          "output_type": "stream",
          "text": [
            "10000/10000 [==============================] - 0s 22us/step\n"
          ],
          "name": "stdout"
        }
      ]
    },
    {
      "cell_type": "markdown",
      "metadata": {
        "id": "1BRkF8FWENWg",
        "colab_type": "text"
      },
      "source": [
        "> These values indicate how well or badly our model behaves with new data that it has never seen. These data have been stored in x_test and y_test when we have performed the mnist.load_data() and we pass them to the method as arguments. In the scope of this post we will only look at one of them, the accuracy:"
      ]
    },
    {
      "cell_type": "code",
      "metadata": {
        "id": "MYS4JmACEMBW",
        "colab_type": "code",
        "colab": {
          "base_uri": "https://localhost:8080/",
          "height": 35
        },
        "outputId": "bcc80fad-fe06-4e0d-f131-ba1fbed7aef7"
      },
      "source": [
        "print('Test accuracy:', test_acc)"
      ],
      "execution_count": 23,
      "outputs": [
        {
          "output_type": "stream",
          "text": [
            "Test accuracy: 0.8572999835014343\n"
          ],
          "name": "stdout"
        }
      ]
    },
    {
      "cell_type": "markdown",
      "metadata": {
        "id": "UMsbXoK3FZ7t",
        "colab_type": "text"
      },
      "source": [
        "# **Generate predictions**\n",
        "\n",
        "> Finally, readers need to know how we can use the model trained in the previous section to make predictions. In our example, it consists in predict which digit represents an image. In order to do this, Keras supply the predict() method.\n",
        "\n",
        "> To test this method we can choose any element. For ease, let’s take one from the test dataset x_test. For example let’s choose the element 11 of this dataset x_test.\n",
        "\n",
        "> Before seeing the prediction, let’s see the image to be able to check ourselves if the model is making a correct prediction (before doing the previous reshape):"
      ]
    },
    {
      "cell_type": "code",
      "metadata": {
        "colab_type": "code",
        "outputId": "6b5e5868-c438-408f-87de-556ca84d5da4",
        "id": "Cm4MtEEeHkeo",
        "colab": {
          "base_uri": "https://localhost:8080/",
          "height": 283
        }
      },
      "source": [
        "plt.imshow(x_test[11], cmap=plt.cm.binary)"
      ],
      "execution_count": 2,
      "outputs": [
        {
          "output_type": "execute_result",
          "data": {
            "text/plain": [
              "<matplotlib.image.AxesImage at 0x7f86b61106a0>"
            ]
          },
          "metadata": {
            "tags": []
          },
          "execution_count": 2
        },
        {
          "output_type": "display_data",
          "data": {
            "image/png": "[encoded data removed]",
            "text/plain": [
              "<Figure size 432x288 with 1 Axes>"
            ]
          },
          "metadata": {
            "tags": [],
            "needs_background": "light"
          }
        }
      ]
    },
    {
      "cell_type": "markdown",
      "metadata": {
        "id": "hH7EHOExIgS0",
        "colab_type": "text"
      },
      "source": [
        "> Now let’s see that the predict() method of the model, executing the following code, correctly predicts the value that we have just estimated that it should predict.\n",
        "\n",
        "> The predict() method returns a vector with the predictions for the whole dataset elements. We can know which class gives the most probability of belonging by means of the argmax function of Numpy, which returns the index of the position that contains the highest value of the vector. Specifically, for item 11:"
      ]
    },
    {
      "cell_type": "code",
      "metadata": {
        "id": "N7817B6rGuCw",
        "colab_type": "code",
        "colab": {
          "base_uri": "https://localhost:8080/",
          "height": 35
        },
        "outputId": "29612b60-d5d5-46b1-fa80-df830bac756b"
      },
      "source": [
        "import numpy as np\n",
        "predictions = model.predict(x_test)\n",
        "np.argmax(predictions[11])"
      ],
      "execution_count": 24,
      "outputs": [
        {
          "output_type": "execute_result",
          "data": {
            "text/plain": [
              "6"
            ]
          },
          "metadata": {
            "tags": []
          },
          "execution_count": 24
        }
      ]
    },
    {
      "cell_type": "markdown",
      "metadata": {
        "id": "yndnGlpVI0jB",
        "colab_type": "text"
      },
      "source": [
        "> We can check it printing the vector returned by the method:"
      ]
    },
    {
      "cell_type": "code",
      "metadata": {
        "id": "5IANNA9KI1vV",
        "colab_type": "code",
        "colab": {
          "base_uri": "https://localhost:8080/",
          "height": 52
        },
        "outputId": "c9160c93-bc00-4812-c989-0ce8b3fc6d6d"
      },
      "source": [
        "print(predictions[11])"
      ],
      "execution_count": 25,
      "outputs": [
        {
          "output_type": "stream",
          "text": [
            "[0.22256902 0.0071131  0.10233448 0.01524724 0.10843305 0.0651271\n",
            " 0.38677177 0.00573045 0.06087364 0.0258002 ]\n"
          ],
          "name": "stdout"
        }
      ]
    },
    {
      "cell_type": "markdown",
      "metadata": {
        "id": "KXv2YEdyI9Dd",
        "colab_type": "text"
      },
      "source": [
        "> We see that the highest value in the vector is in the position 6. We can also verify that the result of the prediction is a vector whose sum of all its components is equal to 1, as expected. For this we can use:"
      ]
    },
    {
      "cell_type": "code",
      "metadata": {
        "id": "ydQXLWfKJD8A",
        "colab_type": "code",
        "colab": {
          "base_uri": "https://localhost:8080/",
          "height": 35
        },
        "outputId": "8815fb58-d4f7-4680-ddab-1d1476733620"
      },
      "source": [
        "np.sum(predictions[11])"
      ],
      "execution_count": 26,
      "outputs": [
        {
          "output_type": "execute_result",
          "data": {
            "text/plain": [
              "1.0"
            ]
          },
          "metadata": {
            "tags": []
          },
          "execution_count": 26
        }
      ]
    }
  ]
}
