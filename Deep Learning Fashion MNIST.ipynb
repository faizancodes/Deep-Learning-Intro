{
  "nbformat": 4,
  "nbformat_minor": 0,
  "metadata": {
    "colab": {
      "name": "Deep Learning | Fashion-MNIST.ipynb",
      "provenance": [],
      "collapsed_sections": []
    },
    "kernelspec": {
      "name": "python3",
      "display_name": "Python 3"
    }
  },
  "cells": [
    {
      "cell_type": "markdown",
      "metadata": {
        "id": "gfy_KM26zL2E",
        "colab_type": "text"
      },
      "source": [
        "# **Fashion-MNIST Database of Fashion Articles**\n",
        "\n",
        "Dataset of 60,000 28x28 grayscale images of 10 fashion categories, along with a test set of 10,000 images."
      ]
    },
    {
      "cell_type": "code",
      "metadata": {
        "id": "hfhmSw6ByTbV",
        "colab_type": "code",
        "outputId": "4e96a8ff-5f03-4995-9b71-b34641e2c678",
        "colab": {
          "base_uri": "https://localhost:8080/",
          "height": 35
        }
      },
      "source": [
        "from keras.datasets import fashion_mnist\n",
        "import matplotlib.pyplot as plt\n",
        "\n",
        "(x_train, y_train), (x_test, y_test) = fashion_mnist.load_data()"
      ],
      "execution_count": 1,
      "outputs": [
        {
          "output_type": "stream",
          "text": [
            "Using TensorFlow backend.\n"
          ],
          "name": "stderr"
        }
      ]
    },
    {
      "cell_type": "markdown",
      "metadata": {
        "id": "LWTbLW3pzAh0",
        "colab_type": "text"
      },
      "source": [
        "# **Label\tDescription**\n",
        "\n",
        "0\tT-shirt/top\n",
        "\n",
        "1\tTrouser\n",
        "\n",
        "2\tPullover\n",
        "\n",
        "3\tDress\n",
        "\n",
        "4\tCoat\n",
        "\n",
        "5\tSandal\n",
        "\n",
        "6\tShirt\n",
        "\n",
        "7\tSneaker\n",
        "\n",
        "8\tBag\n",
        "\n",
        "9\tAnkle boot"
      ]
    },
    {
      "cell_type": "code",
      "metadata": {
        "id": "KkiRYb_Uymlm",
        "colab_type": "code",
        "outputId": "edbf895b-7dbc-454a-980e-8b58fd7b6125",
        "colab": {
          "base_uri": "https://localhost:8080/",
          "height": 283
        }
      },
      "source": [
        "plt.imshow(x_train[3], cmap=plt.cm.binary)\n",
        "print(y_train[3])"
      ],
      "execution_count": 2,
      "outputs": [
        {
          "output_type": "stream",
          "text": [
            "3\n"
          ],
          "name": "stdout"
        },
        {
          "output_type": "display_data",
          "data": {
            "image/png": "[encoded data removed]",
            "text/plain": [
              "<Figure size 432x288 with 1 Axes>"
            ]
          },
          "metadata": {
            "tags": [],
            "needs_background": "light"
          }
        }
      ]
    },
    {
      "cell_type": "code",
      "metadata": {
        "id": "IgdJ9z4rza5B",
        "colab_type": "code",
        "colab": {
          "base_uri": "https://localhost:8080/",
          "height": 70
        },
        "outputId": "0f25e053-cc21-46e3-e6ca-435458a6f6b2"
      },
      "source": [
        "print(x_train.ndim)\n",
        "print(x_train.shape)\n",
        "print(x_train.dtype)"
      ],
      "execution_count": 3,
      "outputs": [
        {
          "output_type": "stream",
          "text": [
            "3\n",
            "(60000, 28, 28)\n",
            "uint8\n"
          ],
          "name": "stdout"
        }
      ]
    },
    {
      "cell_type": "code",
      "metadata": {
        "id": "RUAdhLwy0Lxd",
        "colab_type": "code",
        "colab": {}
      },
      "source": [
        "x_train = x_train.astype('float32')\n",
        "x_test = x_test.astype('float32')\n",
        "\n",
        "x_train /= 255\n",
        "x_test /= 255"
      ],
      "execution_count": 0,
      "outputs": []
    },
    {
      "cell_type": "code",
      "metadata": {
        "id": "WC62PDHg0QED",
        "colab_type": "code",
        "colab": {
          "base_uri": "https://localhost:8080/",
          "height": 52
        },
        "outputId": "351a6127-4b4e-4275-8d24-7057f6400cc4"
      },
      "source": [
        "x_train = x_train.reshape(60000, 784)\n",
        "x_test = x_test.reshape(10000, 784)\n",
        "\n",
        "print(x_train.shape)\n",
        "print(x_test.shape)"
      ],
      "execution_count": 6,
      "outputs": [
        {
          "output_type": "stream",
          "text": [
            "(60000, 784)\n",
            "(10000, 784)\n"
          ],
          "name": "stdout"
        }
      ]
    },
    {
      "cell_type": "code",
      "metadata": {
        "id": "GPCN_NjH0XWY",
        "colab_type": "code",
        "colab": {
          "base_uri": "https://localhost:8080/",
          "height": 105
        },
        "outputId": "3519bc1a-140e-46b8-addd-8bd16ee92be0"
      },
      "source": [
        "from keras.utils import to_categorical\n",
        "\n",
        "print('Y Train:', y_train[0])\n",
        "print('Y Test:', y_test[0])\n",
        "\n",
        "print('\\nY Train Shape:', y_train.shape)\n",
        "print('Y Test Shape:', y_test.shape)"
      ],
      "execution_count": 7,
      "outputs": [
        {
          "output_type": "stream",
          "text": [
            "Y Train: 9\n",
            "Y Test: 9\n",
            "\n",
            "Y Train Shape: (60000,)\n",
            "Y Test Shape: (10000,)\n"
          ],
          "name": "stdout"
        }
      ]
    },
    {
      "cell_type": "code",
      "metadata": {
        "id": "vO21JNMa1e4M",
        "colab_type": "code",
        "colab": {
          "base_uri": "https://localhost:8080/",
          "height": 87
        },
        "outputId": "ee79a810-db09-4e74-cec3-cdbf64e5f536"
      },
      "source": [
        "y_train = to_categorical(y_train, num_classes=10)\n",
        "y_test = to_categorical(y_test, num_classes=10)\n",
        "\n",
        "print('Y Train:', y_train[0])\n",
        "print('Y Test:', y_test[0])\n",
        "\n",
        "print('Y Train Shape:', y_train.shape)\n",
        "print('Y Test Shape:', y_test.shape)"
      ],
      "execution_count": 8,
      "outputs": [
        {
          "output_type": "stream",
          "text": [
            "Y Train: [0. 0. 0. 0. 0. 0. 0. 0. 0. 1.]\n",
            "Y Test: [0. 0. 0. 0. 0. 0. 0. 0. 0. 1.]\n",
            "Y Train Shape: (60000, 10)\n",
            "Y Test Shape: (10000, 10)\n"
          ],
          "name": "stdout"
        }
      ]
    },
    {
      "cell_type": "code",
      "metadata": {
        "id": "zYu6Zg8718qx",
        "colab_type": "code",
        "colab": {
          "base_uri": "https://localhost:8080/",
          "height": 263
        },
        "outputId": "0722268b-e169-48af-bd82-0a71e4e8104f"
      },
      "source": [
        "from keras.models import Sequential\n",
        "from keras.layers.core import Dense, Activation\n",
        "\n",
        "model = Sequential()\n",
        "model.add(Dense(10, activation='sigmoid', input_shape=(784,)))\n",
        "model.add(Dense(10, activation='sigmoid', input_shape=(784,)))\n",
        "model.add(Dense(10, activation='softmax'))\n",
        "\n",
        "model.summary()"
      ],
      "execution_count": 15,
      "outputs": [
        {
          "output_type": "stream",
          "text": [
            "Model: \"sequential_2\"\n",
            "_________________________________________________________________\n",
            "Layer (type)                 Output Shape              Param #   \n",
            "=================================================================\n",
            "dense_3 (Dense)              (None, 10)                7850      \n",
            "_________________________________________________________________\n",
            "dense_4 (Dense)              (None, 10)                110       \n",
            "_________________________________________________________________\n",
            "dense_5 (Dense)              (None, 10)                110       \n",
            "=================================================================\n",
            "Total params: 8,070\n",
            "Trainable params: 8,070\n",
            "Non-trainable params: 0\n",
            "_________________________________________________________________\n"
          ],
          "name": "stdout"
        }
      ]
    },
    {
      "cell_type": "code",
      "metadata": {
        "id": "-28mjfbb2Jv1",
        "colab_type": "code",
        "colab": {
          "base_uri": "https://localhost:8080/",
          "height": 739
        },
        "outputId": "98c7fa4b-943b-4170-fee0-5cc3ab69f684"
      },
      "source": [
        "model.compile(loss='categorical_crossentropy',\n",
        "              optimizer='rmsprop',\n",
        "              metrics = ['accuracy'])\n",
        "\n",
        "model.fit(x_train, y_train, batch_size=50, epochs=20)"
      ],
      "execution_count": 16,
      "outputs": [
        {
          "output_type": "stream",
          "text": [
            "Epoch 1/20\n",
            "60000/60000 [==============================] - 2s 39us/step - loss: 1.5959 - accuracy: 0.5635\n",
            "Epoch 2/20\n",
            "60000/60000 [==============================] - 2s 28us/step - loss: 0.8913 - accuracy: 0.7523\n",
            "Epoch 3/20\n",
            "60000/60000 [==============================] - 2s 28us/step - loss: 0.6592 - accuracy: 0.7910\n",
            "Epoch 4/20\n",
            "60000/60000 [==============================] - 2s 28us/step - loss: 0.5644 - accuracy: 0.8006\n",
            "Epoch 5/20\n",
            "60000/60000 [==============================] - 2s 28us/step - loss: 0.5186 - accuracy: 0.8123\n",
            "Epoch 6/20\n",
            "60000/60000 [==============================] - 2s 28us/step - loss: 0.4843 - accuracy: 0.8321\n",
            "Epoch 7/20\n",
            "60000/60000 [==============================] - 2s 28us/step - loss: 0.4588 - accuracy: 0.8429\n",
            "Epoch 8/20\n",
            "60000/60000 [==============================] - 2s 39us/step - loss: 0.4404 - accuracy: 0.8490\n",
            "Epoch 9/20\n",
            "60000/60000 [==============================] - 2s 39us/step - loss: 0.4271 - accuracy: 0.8530\n",
            "Epoch 10/20\n",
            "60000/60000 [==============================] - 2s 39us/step - loss: 0.4174 - accuracy: 0.8568\n",
            "Epoch 11/20\n",
            "60000/60000 [==============================] - 2s 40us/step - loss: 0.4090 - accuracy: 0.8597\n",
            "Epoch 12/20\n",
            "60000/60000 [==============================] - 2s 40us/step - loss: 0.4031 - accuracy: 0.8611\n",
            "Epoch 13/20\n",
            "60000/60000 [==============================] - 2s 32us/step - loss: 0.3985 - accuracy: 0.8629\n",
            "Epoch 14/20\n",
            "60000/60000 [==============================] - 2s 28us/step - loss: 0.3940 - accuracy: 0.8639\n",
            "Epoch 15/20\n",
            "60000/60000 [==============================] - 2s 28us/step - loss: 0.3895 - accuracy: 0.8657\n",
            "Epoch 16/20\n",
            "60000/60000 [==============================] - 2s 29us/step - loss: 0.3860 - accuracy: 0.8668\n",
            "Epoch 17/20\n",
            "60000/60000 [==============================] - 2s 27us/step - loss: 0.3827 - accuracy: 0.8683\n",
            "Epoch 18/20\n",
            "60000/60000 [==============================] - 2s 27us/step - loss: 0.3804 - accuracy: 0.8679\n",
            "Epoch 19/20\n",
            "60000/60000 [==============================] - 2s 28us/step - loss: 0.3778 - accuracy: 0.8700\n",
            "Epoch 20/20\n",
            "60000/60000 [==============================] - 2s 28us/step - loss: 0.3745 - accuracy: 0.8716\n"
          ],
          "name": "stdout"
        },
        {
          "output_type": "execute_result",
          "data": {
            "text/plain": [
              "<keras.callbacks.callbacks.History at 0x7fa163f1d0f0>"
            ]
          },
          "metadata": {
            "tags": []
          },
          "execution_count": 16
        }
      ]
    },
    {
      "cell_type": "code",
      "metadata": {
        "id": "54QyKVL92uJq",
        "colab_type": "code",
        "colab": {
          "base_uri": "https://localhost:8080/",
          "height": 52
        },
        "outputId": "4c26913d-006f-47b2-f728-0e80b7cdd451"
      },
      "source": [
        "test_loss, test_acc = model.evaluate(x_test, y_test)\n",
        "\n",
        "print('Test accuracy:', test_acc)"
      ],
      "execution_count": 19,
      "outputs": [
        {
          "output_type": "stream",
          "text": [
            "10000/10000 [==============================] - 0s 22us/step\n",
            "Test accuracy: 0.8331999778747559\n"
          ],
          "name": "stdout"
        }
      ]
    },
    {
      "cell_type": "code",
      "metadata": {
        "id": "i6pxJNU728IT",
        "colab_type": "code",
        "colab": {
          "base_uri": "https://localhost:8080/",
          "height": 283
        },
        "outputId": "dfebc392-2c01-4ed8-ad2b-4bdeab543461"
      },
      "source": [
        "plt.imshow(x_test[11], cmap=plt.cm.binary)"
      ],
      "execution_count": 4,
      "outputs": [
        {
          "output_type": "execute_result",
          "data": {
            "text/plain": [
              "<matplotlib.image.AxesImage at 0x7fa16b00dfd0>"
            ]
          },
          "metadata": {
            "tags": []
          },
          "execution_count": 4
        },
        {
          "output_type": "display_data",
          "data": {
            "image/png": "[encoded data removed]",
            "text/plain": [
              "<Figure size 432x288 with 1 Axes>"
            ]
          },
          "metadata": {
            "tags": [],
            "needs_background": "light"
          }
        }
      ]
    },
    {
      "cell_type": "code",
      "metadata": {
        "id": "_iM7mV512_7o",
        "colab_type": "code",
        "colab": {
          "base_uri": "https://localhost:8080/",
          "height": 87
        },
        "outputId": "6249d42d-00cb-4109-ffad-546f2cf66828"
      },
      "source": [
        "import numpy as np\n",
        "predictions = model.predict(x_test)\n",
        "print(np.argmax(predictions[11]))\n",
        "\n",
        "print(predictions[11])"
      ],
      "execution_count": 14,
      "outputs": [
        {
          "output_type": "stream",
          "text": [
            "5\n",
            "[1.05703648e-05 9.37561890e-06 2.65689392e-04 1.28489955e-05\n",
            " 9.49120804e-05 9.70952451e-01 1.83168228e-03 2.39985641e-02\n",
            " 1.20047235e-03 1.62334403e-03]\n"
          ],
          "name": "stdout"
        }
      ]
    }
  ]
}
